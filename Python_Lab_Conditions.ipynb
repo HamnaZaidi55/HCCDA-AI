{
  "nbformat": 4,
  "nbformat_minor": 0,
  "metadata": {
    "colab": {
      "provenance": []
    },
    "kernelspec": {
      "name": "python3",
      "display_name": "Python 3"
    },
    "language_info": {
      "name": "python"
    }
  },
  "cells": [
    {
      "cell_type": "markdown",
      "source": [
        "## **Python Lab# Conditions**"
      ],
      "metadata": {
        "id": "ytRMDzULwjZo"
      }
    },
    {
      "cell_type": "markdown",
      "source": [
        "**Question 1:**\n",
        "Write a Python program to check whether a number entered by the user is positive, negative, or zero."
      ],
      "metadata": {
        "id": "eVhm6GQoi4MG"
      }
    },
    {
      "cell_type": "code",
      "execution_count": null,
      "metadata": {
        "colab": {
          "base_uri": "https://localhost:8080/"
        },
        "id": "VrjCW-9riyaU",
        "outputId": "398a63ff-09b9-4518-d4e2-b943e8e0ba33"
      },
      "outputs": [
        {
          "output_type": "stream",
          "name": "stdout",
          "text": [
            "Enter a number: 56\n",
            "Positive number\n"
          ]
        }
      ],
      "source": [
        "number = float(input(\"Enter a number: \"))\n",
        "if number > 0:\n",
        "  print(\"Positive number\")\n",
        "elif number < 0:\n",
        "  print(\"negative number\")\n",
        "elif number == 0:\n",
        "  print(\"zero\")\n",
        "else:\n",
        "  print(\"output\", number)"
      ]
    },
    {
      "cell_type": "markdown",
      "source": [
        "**Question 2:**\n",
        "Write a Python program to check whether a number entered by the user is even or odd."
      ],
      "metadata": {
        "id": "exGEDYknjrKD"
      }
    },
    {
      "cell_type": "code",
      "source": [
        "number = int(input(\"Enter a number: \"))\n",
        "if (number % 2) == 0:\n",
        "   print(\"number is Even\", number)\n",
        "else:\n",
        "   print(\"number is Odd\",number)"
      ],
      "metadata": {
        "colab": {
          "base_uri": "https://localhost:8080/"
        },
        "id": "e5FGVM2pjwhv",
        "outputId": "11881983-7d9e-4ecb-b4b8-5d80c7603443"
      },
      "execution_count": null,
      "outputs": [
        {
          "output_type": "stream",
          "name": "stdout",
          "text": [
            "Enter a number: 89\n",
            "number is Odd 89\n"
          ]
        }
      ]
    },
    {
      "cell_type": "markdown",
      "source": [
        "**Question 3:**\n",
        "Write a Python program that accepts the age of a person and checks if the person is eligible to vote (age ≥ 18)."
      ],
      "metadata": {
        "id": "X1bHb8aVkO2e"
      }
    },
    {
      "cell_type": "code",
      "source": [
        "age_number = float(input(\"Enter a number: \"))\n",
        "if age_number >= 18:\n",
        "  print(\"eligible to vote\")\n",
        "else:\n",
        "  print(\"not eligible to vote\")"
      ],
      "metadata": {
        "colab": {
          "base_uri": "https://localhost:8080/"
        },
        "id": "-Lqzb-KckWiA",
        "outputId": "0a940879-2bc4-4e0b-fe0a-8e1251b1f06e"
      },
      "execution_count": null,
      "outputs": [
        {
          "output_type": "stream",
          "name": "stdout",
          "text": [
            "Enter a number: 4\n",
            "not eligible to vote\n"
          ]
        }
      ]
    },
    {
      "cell_type": "markdown",
      "source": [
        "**Question 4:**\n",
        "Write a Python program to determine if a number entered by the user is a multiple of 3 and 5 or not."
      ],
      "metadata": {
        "id": "3iLdG12zlMXA"
      }
    },
    {
      "cell_type": "code",
      "source": [
        "m_number = int(input(\"Enter a number: \"))\n",
        "if (m_number % 3) == 0:\n",
        "   print(m_number, \"multiple of 3\")\n",
        "elif (m_number % 5) == 0:\n",
        "  print(m_number, \"multiple of 5\")\n",
        "else:\n",
        "   print(m_number, \"number is not multiple of 3 or 5\")"
      ],
      "metadata": {
        "colab": {
          "base_uri": "https://localhost:8080/"
        },
        "id": "mKIP9adwlIhN",
        "outputId": "df1223c1-f1bd-46e6-cb4c-47c887a1f63c"
      },
      "execution_count": null,
      "outputs": [
        {
          "output_type": "stream",
          "name": "stdout",
          "text": [
            "Enter a number: 67\n",
            "67 number is not multiple of 3 or 5\n"
          ]
        }
      ]
    },
    {
      "cell_type": "markdown",
      "source": [
        "**Question 5:**\n",
        "Write a Python program to check if the last digit of a number entered by the user is divisible by 3 or not."
      ],
      "metadata": {
        "id": "Qxo377mumHuE"
      }
    },
    {
      "cell_type": "code",
      "source": [
        "num = int(input(\"Enter an integer: \"))\n",
        "last_digit = num % 10\n",
        "if last_digit % 3 == 0:\n",
        "    print(\"The last digit is divisible by 3\")\n",
        "else:\n",
        "    print(\"The last digit is not divisible by 3\")"
      ],
      "metadata": {
        "colab": {
          "base_uri": "https://localhost:8080/"
        },
        "id": "jR_DG4-omvbv",
        "outputId": "b1059323-014e-49b5-abd8-91250853d01f"
      },
      "execution_count": null,
      "outputs": [
        {
          "output_type": "stream",
          "name": "stdout",
          "text": [
            "Enter an integer: 56\n",
            "The last digit is divisible by 3\n"
          ]
        }
      ]
    },
    {
      "cell_type": "markdown",
      "source": [
        "**Question 6:**\n",
        "Write a Python program that accepts a year from the user and checks if it is a leap year or not."
      ],
      "metadata": {
        "id": "kVbu3CrHn79F"
      }
    },
    {
      "cell_type": "code",
      "source": [
        "year = int(input(\"Enter a year: \"))\n",
        "\n",
        "if (year % 4) == 0:\n",
        "  print(year, \"year is a leap year\")\n",
        "else:\n",
        "  print(year, \"year is not a leap year\")"
      ],
      "metadata": {
        "colab": {
          "base_uri": "https://localhost:8080/"
        },
        "id": "AKbrl_ekpTMh",
        "outputId": "67c09e42-0d4a-47bb-bce3-3ad1d963f2c1"
      },
      "execution_count": null,
      "outputs": [
        {
          "output_type": "stream",
          "name": "stdout",
          "text": [
            "Enter a year: 2026\n",
            "2026 year is not a leap year\n"
          ]
        }
      ]
    },
    {
      "cell_type": "markdown",
      "source": [
        "**Question 7:**\n",
        "Write a Python program to accept a number from 1 to 7 and print the corresponding day of the week (e.g., 1 = Sunday, 2 = Monday, …)."
      ],
      "metadata": {
        "id": "2SfIuQ8upb9c"
      }
    },
    {
      "cell_type": "code",
      "source": [
        "day_number = int(input(\"Enter a number from 1 to 7: \"))\n",
        "\n",
        "if day_number == 1:\n",
        "    print(\"Sunday\")\n",
        "elif day_number == 2:\n",
        "    print(\"Monday\")\n",
        "elif day_number == 3:\n",
        "    print(\"Tuesday\")\n",
        "elif day_number == 4:\n",
        "    print(\"Wednesday\")\n",
        "elif day_number == 5:\n",
        "    print(\"Thursday\")\n",
        "elif day_number == 6:\n",
        "    print(\"Friday\")\n",
        "elif day_number == 7:\n",
        "    print(\"Saturday\")\n",
        "else:\n",
        "    print(\"Invalid number. Please enter a number between 1 and 7.\")"
      ],
      "metadata": {
        "colab": {
          "base_uri": "https://localhost:8080/"
        },
        "id": "2cs1IS1ppr3q",
        "outputId": "372698ca-0c17-4494-d0b8-12633a07efb8"
      },
      "execution_count": null,
      "outputs": [
        {
          "output_type": "stream",
          "name": "stdout",
          "text": [
            "Enter a number from 1 to 7: 5\n",
            "Thursday\n"
          ]
        }
      ]
    },
    {
      "cell_type": "markdown",
      "source": [
        "**Question 8:**\n",
        "Write a Python program to print “Hello” if a number entered by the user is a multiple of 5; otherwise, print “Bye”."
      ],
      "metadata": {
        "id": "iTnfRhKQp4di"
      }
    },
    {
      "cell_type": "code",
      "source": [
        "number = int(input(\"Enter a number: \"))\n",
        "\n",
        "if number % 5 == 0:\n",
        "  print(\"Hello\")\n",
        "else:\n",
        "  print(\"Bye\")"
      ],
      "metadata": {
        "colab": {
          "base_uri": "https://localhost:8080/"
        },
        "id": "iSQyUB1Lp_71",
        "outputId": "43f856c3-1b94-4613-dfd7-d5b178bc1753"
      },
      "execution_count": null,
      "outputs": [
        {
          "output_type": "stream",
          "name": "stdout",
          "text": [
            "Enter a number: 56\n",
            "Bye\n"
          ]
        }
      ]
    },
    {
      "cell_type": "markdown",
      "source": [
        "**Question 9:**\n",
        "Write a Python program that asks the user to enter two numbers and prints which one is greater."
      ],
      "metadata": {
        "id": "ytxoJtntqKOu"
      }
    },
    {
      "cell_type": "code",
      "source": [
        "num1 = float(input(\"Enter the first number: \"))\n",
        "num2 = float(input(\"Enter the second number: \"))\n",
        "\n",
        "if num1 > num2:\n",
        "  print(\"The first number is greater:\", num1)\n",
        "elif num2 > num1:\n",
        "  print(\"The second number is greater:\", num2)\n",
        "else:\n",
        "  print(\"Both numbers are equal:\", num1)\n"
      ],
      "metadata": {
        "colab": {
          "base_uri": "https://localhost:8080/"
        },
        "id": "aaOTTzOBqTO_",
        "outputId": "793a6718-693a-4d34-f8f2-fb991fd5a366"
      },
      "execution_count": null,
      "outputs": [
        {
          "output_type": "stream",
          "name": "stdout",
          "text": [
            "Enter the first number: 45\n",
            "Enter the second number: 47\n",
            "The second number is greater: 47.0\n"
          ]
        }
      ]
    },
    {
      "cell_type": "markdown",
      "source": [
        "**Question 10:**\n",
        "Write a Python program to check if a character entered by the user is a vowel or a consonant."
      ],
      "metadata": {
        "id": "lSQatXezqYQy"
      }
    },
    {
      "cell_type": "code",
      "source": [
        "apla = input(\"Enter a  alphabat \")\n",
        "\n",
        "if apla == \"a\":\n",
        "  print(apla,\"is vowel\")\n",
        "elif apla == \"e\":\n",
        "  print(apla,\"is vowel\")\n",
        "elif apla == \"i\":\n",
        "  print(apla,\"is vowel\")\n",
        "elif apla == \"o\":\n",
        "  print(apla,\"is vowel\")\n",
        "elif apla == \"u\":\n",
        "  print(apla,\"is vowel\")\n",
        "else:\n",
        "    print(apla, \"is not a vowel\")"
      ],
      "metadata": {
        "colab": {
          "base_uri": "https://localhost:8080/"
        },
        "id": "-o4X1FJuqinp",
        "outputId": "1001eb7f-db72-4a96-dc0f-f9c8fec7df91"
      },
      "execution_count": null,
      "outputs": [
        {
          "output_type": "stream",
          "name": "stdout",
          "text": [
            "Enter a  alphabat d\n",
            "d is not a vowel\n"
          ]
        }
      ]
    },
    {
      "cell_type": "markdown",
      "source": [
        "**Question 11:**\n",
        "Write a Python program to accept three numbers and print the largest among them using if-elif-else."
      ],
      "metadata": {
        "id": "hK6UsLO8shIN"
      }
    },
    {
      "cell_type": "code",
      "source": [
        "num1 = float(input(\"Enter the first number: \"))\n",
        "num2 = float(input(\"Enter the second number: \"))\n",
        "num3 = float(input(\"Enter the third number: \"))\n",
        "\n",
        "if (num1 >= num2) and (num1 >= num3):\n",
        "   largest = num1\n",
        "elif (num2 >= num1) and (num2 >= num3):\n",
        "   largest = num2\n",
        "else:\n",
        "   largest = num3\n",
        "\n",
        "print(\"The largest number is\", largest)"
      ],
      "metadata": {
        "colab": {
          "base_uri": "https://localhost:8080/"
        },
        "id": "LDimOKRSty6J",
        "outputId": "fb14be4d-d79f-4676-c361-33f69c841360"
      },
      "execution_count": null,
      "outputs": [
        {
          "output_type": "stream",
          "name": "stdout",
          "text": [
            "Enter the first number: 67\n",
            "Enter the second number: 56\n",
            "Enter the third number: 1000\n",
            "The largest number is 1000.0\n"
          ]
        }
      ]
    },
    {
      "cell_type": "markdown",
      "source": [
        "**Question 12:**\n",
        "Write a Python program to check whether a given number is prime or not."
      ],
      "metadata": {
        "id": "M1tixFmLt49m"
      }
    },
    {
      "cell_type": "code",
      "source": [
        "num = int(input(\"Enter a number: \"))\n",
        "\n",
        "if num > 1:\n",
        "   for i in range(2,num):\n",
        "       if (num % i) == 0:\n",
        "           print(num,\"is not a prime number\")\n",
        "           break\n",
        "   else:\n",
        "       print(num,\"is a prime number\")\n",
        "\n",
        "elif num == 1:\n",
        "   print(num,\"is not a prime number\")\n",
        "\n",
        "else:\n",
        "   print(num,\"is not a prime number\")"
      ],
      "metadata": {
        "colab": {
          "base_uri": "https://localhost:8080/"
        },
        "id": "Kr6lq6VzvU9h",
        "outputId": "34d557aa-b7c3-4059-940c-6bf15cf2cbd3"
      },
      "execution_count": null,
      "outputs": [
        {
          "output_type": "stream",
          "name": "stdout",
          "text": [
            "Enter a number: 67\n",
            "67 is a prime number\n"
          ]
        }
      ]
    },
    {
      "cell_type": "markdown",
      "source": [
        "**Question 13:**\n",
        "Write a Python program to accept marks from the user and print the corresponding grade\n",
        "using if-elif-else:\n",
        "● A: 90–100\n",
        "● B: 80–89\n",
        "● C: 70–79\n",
        "● D: 60–69\n",
        "● F: Below 60"
      ],
      "metadata": {
        "id": "US-TeJCYvuu5"
      }
    },
    {
      "cell_type": "code",
      "source": [
        "marks = float(input(\"Enter your marks: \"))\n",
        "\n",
        "if marks >= 90 and marks <= 100:\n",
        "  print(\"Grade: A\")\n",
        "elif marks >= 80 and marks < 90:\n",
        "  print(\"Grade: B\")\n",
        "elif marks >= 70 and marks < 80:\n",
        "  print(\"Grade: C\")\n",
        "elif marks >= 60 and marks < 70:\n",
        "  print(\"Grade: D\")\n",
        "elif marks < 60:\n",
        "  print(\"Grade: F\")\n",
        "else:\n",
        "  print(\"Invalid marks entered.\")"
      ],
      "metadata": {
        "colab": {
          "base_uri": "https://localhost:8080/"
        },
        "id": "njnhB92Fv23m",
        "outputId": "9eda568a-4837-490a-b58a-10d70ad5e3e0"
      },
      "execution_count": null,
      "outputs": [
        {
          "output_type": "stream",
          "name": "stdout",
          "text": [
            "Enter your marks: 56\n",
            "Grade: F\n"
          ]
        }
      ]
    },
    {
      "cell_type": "markdown",
      "source": [
        "**Question 14:**\n",
        "Write a Python program that accepts an amount and checks whether the user has enough balance to purchase an item priced at Rs. 100. Print “Purchase successful” if enough, otherwise “Insufficient balance”."
      ],
      "metadata": {
        "id": "qRVzNEVpv6ej"
      }
    },
    {
      "cell_type": "code",
      "source": [
        "amount = float(input(\"Enter your balance amount: \"))\n",
        "item_price = 100\n",
        "\n",
        "if amount >= item_price:\n",
        "  print(\"Purchase successful\")\n",
        "else:\n",
        "  print(\"Insufficient balance\")"
      ],
      "metadata": {
        "colab": {
          "base_uri": "https://localhost:8080/"
        },
        "id": "IqvV3QT5wAQG",
        "outputId": "1d658603-9903-48d9-ce51-26746e0aee2b"
      },
      "execution_count": null,
      "outputs": [
        {
          "output_type": "stream",
          "name": "stdout",
          "text": [
            "Enter your balance amount: 67\n",
            "Insufficient balance\n"
          ]
        }
      ]
    },
    {
      "cell_type": "markdown",
      "source": [
        "**Question 15:**\n",
        "Write a Python program that takes a number from the user and prints whether it is a single- digit, two-digit, or three-digit number."
      ],
      "metadata": {
        "id": "ZkyPddhYwRn-"
      }
    },
    {
      "cell_type": "code",
      "source": [
        "number = int(input(\"Enter a number: \"))\n",
        "\n",
        "if -9 <= number <= 9:\n",
        "    print(\"Single-digit number\")\n",
        "elif -99 <= number <= 99:\n",
        "    print(\"Two-digit number\")\n",
        "elif -999 <= number <= 999:\n",
        "    print(\"Three-digit number\")\n",
        "else:\n",
        "    print(\"Number is not a single-digit, two-digit, or three-digit number.\")"
      ],
      "metadata": {
        "colab": {
          "base_uri": "https://localhost:8080/"
        },
        "id": "f-0Bp7z3wRUJ",
        "outputId": "af15c6ef-f440-42bb-9095-b39240b34da5"
      },
      "execution_count": null,
      "outputs": [
        {
          "output_type": "stream",
          "name": "stdout",
          "text": [
            "Enter a number: 67\n",
            "Two-digit number\n"
          ]
        }
      ]
    }
  ]
}