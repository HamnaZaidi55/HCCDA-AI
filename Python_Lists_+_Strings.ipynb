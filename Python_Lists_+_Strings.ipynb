{
  "nbformat": 4,
  "nbformat_minor": 0,
  "metadata": {
    "colab": {
      "provenance": []
    },
    "kernelspec": {
      "name": "python3",
      "display_name": "Python 3"
    },
    "language_info": {
      "name": "python"
    }
  },
  "cells": [
    {
      "cell_type": "markdown",
      "source": [
        "# Section A: Lists\n",
        "Q1. List Statistics\n",
        "Write a Python program that takes a list of numbers from the user and performs the following operations:\n",
        "Find and print the maximum and minimum values in the list.\n",
        "\n",
        "\n",
        "Calculate and print the sum of all elements.\n",
        "\n",
        "\n",
        "Compute and display the average of the elements."
      ],
      "metadata": {
        "id": "Kffx3dIWPJCQ"
      }
    },
    {
      "cell_type": "code",
      "execution_count": 2,
      "metadata": {
        "colab": {
          "base_uri": "https://localhost:8080/"
        },
        "id": "T01FHBM3PAEQ",
        "outputId": "68f681c6-f30a-48da-af0d-92951b003b89"
      },
      "outputs": [
        {
          "output_type": "stream",
          "name": "stdout",
          "text": [
            "Enter numbers separated by space: 55 77 88 99 66 44 33 22 11\n",
            "Maximum: 99\n",
            "Minimum: 11\n",
            "Sum: 495\n",
            "Average: 55.0\n"
          ]
        }
      ],
      "source": [
        "numbers = list(map(int, input(\"Enter numbers separated by space: \").split()))\n",
        "\n",
        "max_val = max(numbers)\n",
        "min_val = min(numbers)\n",
        "total_sum = sum(numbers)\n",
        "average = total_sum / len(numbers)\n",
        "\n",
        "print(\"Maximum:\", max_val)\n",
        "print(\"Minimum:\", min_val)\n",
        "print(\"Sum:\", total_sum)\n",
        "print(\"Average:\", average)"
      ]
    },
    {
      "cell_type": "markdown",
      "source": [
        "Q2. Even, Odd, and Divisibility\n",
        "Write a Python program to input 10 integers from the user and store them in a list. Then:\n",
        "Display all the even numbers from the list.\n",
        "\n",
        "\n",
        "Display all the odd numbers from the list.\n",
        "\n",
        "\n",
        "Count and print how many numbers are divisible by 5."
      ],
      "metadata": {
        "id": "xrcVemYkQbuT"
      }
    },
    {
      "cell_type": "code",
      "source": [
        "numbers = []\n",
        "print(\"Enter 10 integers:\")\n",
        "for _ in range(10):\n",
        "    while True:\n",
        "        try:\n",
        "            num = int(input())\n",
        "            numbers.append(num)\n",
        "            break\n",
        "        except ValueError:\n",
        "            print(\"Invalid input. Please enter an integer.\")\n",
        "\n",
        "even_numbers = [num for num in numbers if num % 2 == 0]\n",
        "odd_numbers = [num for num in numbers if num % 2 != 0]\n",
        "divisible_by_5_count = sum(1 for num in numbers if num % 5 == 0)\n",
        "\n",
        "print(\"\\nEven numbers:\", even_numbers)\n",
        "print(\"Odd numbers:\", odd_numbers)\n",
        "print(\"Count of numbers divisible by 5:\", divisible_by_5_count)"
      ],
      "metadata": {
        "colab": {
          "base_uri": "https://localhost:8080/"
        },
        "id": "djzgAYkOQSww",
        "outputId": "d1a9ab52-26e3-4867-b88b-642840560161"
      },
      "execution_count": 5,
      "outputs": [
        {
          "output_type": "stream",
          "name": "stdout",
          "text": [
            "Enter 10 integers:\n",
            "5\n",
            "6\n",
            "8\n",
            "9\n",
            "5\n",
            "4\n",
            "3\n",
            "2\n",
            "7\n",
            "55\n",
            "\n",
            "Even numbers: [6, 8, 4, 2]\n",
            "Odd numbers: [5, 9, 5, 3, 7, 55]\n",
            "Count of numbers divisible by 5: 3\n"
          ]
        }
      ]
    },
    {
      "cell_type": "markdown",
      "source": [
        "Q3. Reverse List Without Built-in Method\n",
        "Create a Python function that takes a list as input and returns a new list with the elements in reverse order.\n",
        "Note: Do not use the built-in reverse() method or slicing like [::-1]."
      ],
      "metadata": {
        "id": "9iEQDJ8JRbsz"
      }
    },
    {
      "cell_type": "code",
      "source": [
        "def reverse_list_manually(input_list):\n",
        "  \"\"\"\n",
        "  Reverses a list without using built-in reverse() or slicing [::-1].\n",
        "\n",
        "  Args:\n",
        "    input_list: The list to be reversed.\n",
        "\n",
        "  Returns:\n",
        "    A new list with elements in reverse order.\n",
        "  \"\"\"\n",
        "  reversed_list = []\n",
        "  for i in range(len(input_list) - 1, -1, -1):\n",
        "    reversed_list.append(input_list[i])\n",
        "  return reversed_list\n",
        "\n",
        "# Example usage:\n",
        "my_list = [1, 2, 3, 4, 5]\n",
        "reversed_my_list = reverse_list_manually(my_list)\n",
        "print(f\"Original list: {my_list}\")\n",
        "print(f\"Reversed list: {reversed_my_list}\")\n",
        "\n",
        "my_list2 = [\"apple\", \"banana\", \"cherry\"]\n",
        "reversed_my_list2 = reverse_list_manually(my_list2)\n",
        "print(f\"Original list: {my_list2}\")\n",
        "print(f\"Reversed list: {reversed_my_list2}\")"
      ],
      "metadata": {
        "colab": {
          "base_uri": "https://localhost:8080/"
        },
        "id": "i4n5FaJQReQB",
        "outputId": "f47bcf81-0b0e-4b50-c68f-209c3335b7c8"
      },
      "execution_count": 6,
      "outputs": [
        {
          "output_type": "stream",
          "name": "stdout",
          "text": [
            "Original list: [1, 2, 3, 4, 5]\n",
            "Reversed list: [5, 4, 3, 2, 1]\n",
            "Original list: ['apple', 'banana', 'cherry']\n",
            "Reversed list: ['cherry', 'banana', 'apple']\n"
          ]
        }
      ]
    },
    {
      "cell_type": "markdown",
      "source": [
        "Q4. Names List Operations\n",
        "Given a list of names (strings), write a Python program that:\n",
        "Sorts the names in alphabetical order.\n",
        "\n",
        "\n",
        "Finds and prints the longest name in the list.\n",
        "\n",
        "\n",
        "Counts how many names start with a vowel (a, e, i, o, u – case insensitive)."
      ],
      "metadata": {
        "id": "rFO2oOBQRoox"
      }
    },
    {
      "cell_type": "code",
      "source": [
        "names = [\"Alice\", \"Bob\", \"Charlie\", \"David\", \"Eve\", \"frank\", \"Olivia\", \"Ursula\"]\n",
        "\n",
        "# Sort names in alphabetical order\n",
        "names.sort()\n",
        "print(\"Names sorted alphabetically:\", names)\n",
        "\n",
        "# Find the longest name\n",
        "longest_name = max(names, key=len)\n",
        "print(\"Longest name:\", longest_name)\n",
        "\n",
        "# Count names starting with a vowel (case insensitive)\n",
        "vowels = \"aeiou\"\n",
        "vowel_start_count = sum(1 for name in names if name[0].lower() in vowels)\n",
        "print(\"Count of names starting with a vowel:\", vowel_start_count)"
      ],
      "metadata": {
        "colab": {
          "base_uri": "https://localhost:8080/"
        },
        "id": "XI395LHRRxgY",
        "outputId": "50b0bc15-d0fc-4629-f0dc-faa6c244ee2b"
      },
      "execution_count": 7,
      "outputs": [
        {
          "output_type": "stream",
          "name": "stdout",
          "text": [
            "Names sorted alphabetically: ['Alice', 'Bob', 'Charlie', 'David', 'Eve', 'Olivia', 'Ursula', 'frank']\n",
            "Longest name: Charlie\n",
            "Count of names starting with a vowel: 4\n"
          ]
        }
      ]
    },
    {
      "cell_type": "markdown",
      "source": [
        "Q5. Merge Two Lists Without Using + or extend()\n",
        "Write a Python program to merge two lists into a single list without using the + operator or the extend() method.\n"
      ],
      "metadata": {
        "id": "HMEZc-EESXAU"
      }
    },
    {
      "cell_type": "code",
      "source": [
        "list1 = [1, 2, 3]\n",
        "list2 = [4, 5, 6]\n",
        "merged_list = []\n",
        "\n",
        "# Iterate through the first list and append elements\n",
        "for item in list1:\n",
        "    merged_list.append(item)\n",
        "\n",
        "# Iterate through the second list and append elements\n",
        "for item in list2:\n",
        "    merged_list.append(item)\n",
        "\n",
        "print(\"Merged list:\", merged_list)"
      ],
      "metadata": {
        "colab": {
          "base_uri": "https://localhost:8080/"
        },
        "id": "LjOukPC1Sbw0",
        "outputId": "5b31b59e-9012-42f6-c3f4-957c57fac327"
      },
      "execution_count": 8,
      "outputs": [
        {
          "output_type": "stream",
          "name": "stdout",
          "text": [
            "Merged list: [1, 2, 3, 4, 5, 6]\n"
          ]
        }
      ]
    },
    {
      "cell_type": "markdown",
      "source": [
        "# Section B: Strings\n",
        "Q6. String Case and Vowel Count\n",
        "Write a Python program that takes a string input from the user and performs the following:\n",
        "Converts the string to uppercase.\n",
        "Converts the string to lowercase.\n",
        "Counts and prints the number of vowels in the string.\n"
      ],
      "metadata": {
        "id": "8Ny-OYc4SjNH"
      }
    },
    {
      "cell_type": "code",
      "source": [
        "input_string = input(\"Enter a string: \")\n",
        "\n",
        "# Convert to uppercase\n",
        "uppercase_string = input_string.upper()\n",
        "print(\"Uppercase string:\", uppercase_string)\n",
        "\n",
        "# Convert to lowercase\n",
        "lowercase_string = input_string.lower()\n",
        "print(\"Lowercase string:\", lowercase_string)\n",
        "\n",
        "# Count vowels\n",
        "vowels = \"aeiou\"\n",
        "vowel_count = sum(1 for char in lowercase_string if char in vowels)\n",
        "print(\"Number of vowels:\", vowel_count)"
      ],
      "metadata": {
        "colab": {
          "base_uri": "https://localhost:8080/"
        },
        "id": "Yjwj8DOqStnl",
        "outputId": "ab6684d3-168a-4949-a0ea-37e2da4481b0"
      },
      "execution_count": 10,
      "outputs": [
        {
          "output_type": "stream",
          "name": "stdout",
          "text": [
            "Enter a string: aqsa \n",
            "Uppercase string: AQSA \n",
            "Lowercase string: aqsa \n",
            "Number of vowels: 2\n"
          ]
        }
      ]
    },
    {
      "cell_type": "markdown",
      "source": [
        "Q7. Palindrome Checker\n",
        "Create a Python function that checks whether a given string is a palindrome (i.e., it reads the same forwards and backwards).\n"
      ],
      "metadata": {
        "id": "ERNtwpGMS-El"
      }
    },
    {
      "cell_type": "code",
      "source": [
        "def is_palindrome(input_string):\n",
        "  \"\"\"\n",
        "  Checks if a given string is a palindrome.\n",
        "\n",
        "  Args:\n",
        "    input_string: The string to check.\n",
        "\n",
        "  Returns:\n",
        "    True if the string is a palindrome, False otherwise.\n",
        "  \"\"\"\n",
        "  # Remove spaces and convert to lowercase for case-insensitive check\n",
        "  processed_string = \"\".join(input_string.split()).lower()\n",
        "  return processed_string == processed_string[::-1]\n",
        "\n",
        "# Example usage:\n",
        "print(f\"'racecar' is a palindrome: {is_palindrome('racecar')}\")\n",
        "print(f\"'hello' is a palindrome: {is_palindrome('hello')}\")\n",
        "print(f\"'A man a plan a canal Panama' is a palindrome: {is_palindrome('A man a plan a canal Panama')}\")"
      ],
      "metadata": {
        "colab": {
          "base_uri": "https://localhost:8080/"
        },
        "id": "EWdv7rJvTkd2",
        "outputId": "40839e0a-a065-4214-9388-e33c89af3cfa"
      },
      "execution_count": 14,
      "outputs": [
        {
          "output_type": "stream",
          "name": "stdout",
          "text": [
            "'racecar' is a palindrome: True\n",
            "'hello' is a palindrome: False\n",
            "'A man a plan a canal Panama' is a palindrome: True\n"
          ]
        }
      ]
    },
    {
      "cell_type": "markdown",
      "source": [
        "Q8. Sentence Analysis\n",
        "Write a Python program that takes a sentence as input and:\n",
        "Splits the sentence into individual words.\n",
        "Counts the number of words.\n",
        "Reverses the order of words and prints the new sentence."
      ],
      "metadata": {
        "id": "jNuPXma1Tsp-"
      }
    },
    {
      "cell_type": "code",
      "source": [
        "sentence = input(\"Enter a sentence: \")\n",
        "\n",
        "# Split the sentence into words\n",
        "words = sentence.split()\n",
        "\n",
        "# Count the number of words\n",
        "word_count = len(words)\n",
        "print(\"Number of words:\", word_count)\n",
        "\n",
        "# Reverse the order of words\n",
        "reversed_words = words[::-1]\n",
        "reversed_sentence = \" \".join(reversed_words)\n",
        "print(\"Sentence with reversed word order:\", reversed_sentence)"
      ],
      "metadata": {
        "colab": {
          "base_uri": "https://localhost:8080/"
        },
        "id": "3OX9bCXfTrzF",
        "outputId": "c0653e05-8521-4e81-ada0-c63f65565a99"
      },
      "execution_count": 15,
      "outputs": [
        {
          "output_type": "stream",
          "name": "stdout",
          "text": [
            "Enter a sentence: Search your own heart with all diligence for out of it flow the issues of life.\n",
            "Number of words: 16\n",
            "Sentence with reversed word order: life. of issues the flow it of out for diligence all with heart own your Search\n"
          ]
        }
      ]
    },
    {
      "cell_type": "markdown",
      "source": [
        "Q9. Character Frequency Counter\n",
        "Given a string, write a Python program to count and display the frequency of each character, ignoring case and spaces."
      ],
      "metadata": {
        "id": "_QK6QwVrUjKb"
      }
    },
    {
      "cell_type": "code",
      "source": [
        "text = input(\"Enter a string: \").lower().replace(\" \", \"\")\n",
        "frequency = {}\n",
        "\n",
        "for ch in text:\n",
        "    frequency[ch] = frequency.get(ch, 0) + 1\n",
        "\n",
        "print(\"Character Frequency:\")\n",
        "for char, count in frequency.items():\n",
        "    print(f\"{char}: {count}\")"
      ],
      "metadata": {
        "colab": {
          "base_uri": "https://localhost:8080/"
        },
        "id": "otJmtsgEUdNc",
        "outputId": "af2105de-802d-4395-ab1f-b943b82d9f70"
      },
      "execution_count": 16,
      "outputs": [
        {
          "output_type": "stream",
          "name": "stdout",
          "text": [
            "Enter a string: Search your own heart with all diligence for out of it flow the issues of life.\n",
            "Character Frequency:\n",
            "s: 4\n",
            "e: 7\n",
            "a: 3\n",
            "r: 4\n",
            "c: 2\n",
            "h: 4\n",
            "y: 1\n",
            "o: 7\n",
            "u: 3\n",
            "w: 3\n",
            "n: 2\n",
            "t: 5\n",
            "i: 6\n",
            "l: 5\n",
            "d: 1\n",
            "g: 1\n",
            "f: 5\n",
            ".: 1\n"
          ]
        }
      ]
    },
    {
      "cell_type": "markdown",
      "source": [
        "Q10. Remove Special Characters and Digits\n",
        "Write a Python function that takes a string and removes all special characters and digits, keeping only alphabetic characters."
      ],
      "metadata": {
        "id": "X-_iq_o-U3M4"
      }
    },
    {
      "cell_type": "code",
      "source": [
        "import re\n",
        "\n",
        "def remove_special_chars(s):\n",
        "    return re.sub(r'[^A-Za-z\\s]', '', s)\n",
        "\n",
        "string = input(\"Enter a string: \")\n",
        "clean_string = remove_special_chars(string)\n",
        "print(\"Cleaned String:\", clean_string)"
      ],
      "metadata": {
        "colab": {
          "base_uri": "https://localhost:8080/"
        },
        "id": "_iyO9jHNU8bX",
        "outputId": "6f267dfb-d158-4fcf-c9c0-a1ce7f3be960"
      },
      "execution_count": 18,
      "outputs": [
        {
          "output_type": "stream",
          "name": "stdout",
          "text": [
            "Enter a string: Search your own heart with all diligence for- out | of it \\ flow _ the issues of life.\n",
            "Cleaned String: Search your own heart with all diligence for out  of it  flow  the issues of life\n"
          ]
        }
      ]
    }
  ]
}