{
  "nbformat": 4,
  "nbformat_minor": 0,
  "metadata": {
    "colab": {
      "provenance": []
    },
    "kernelspec": {
      "name": "python3",
      "display_name": "Python 3"
    },
    "language_info": {
      "name": "python"
    }
  },
  "cells": [
    {
      "cell_type": "code",
      "execution_count": 3,
      "metadata": {
        "colab": {
          "base_uri": "https://localhost:8080/"
        },
        "id": "cWXCYDz7p4-4",
        "outputId": "c9e61d7e-4aae-46e2-d007-e6112757cd0b"
      },
      "outputs": [
        {
          "metadata": {
            "tags": null
          },
          "name": "stdout",
          "output_type": "stream",
          "text": [
            "Requirement already satisfied: huaweicloudsdkcore in /usr/local/lib/python3.11/dist-packages (3.1.161)\n",
            "Requirement already satisfied: requests-toolbelt>=0.10.1 in /usr/local/lib/python3.11/dist-packages (from huaweicloudsdkcore) (1.0.0)\n",
            "Requirement already satisfied: six>=1.16.0 in /usr/local/lib/python3.11/dist-packages (from huaweicloudsdkcore) (1.17.0)\n",
            "Requirement already satisfied: simplejson>=3.18.0 in /usr/local/lib/python3.11/dist-packages (from huaweicloudsdkcore) (3.20.1)\n",
            "Requirement already satisfied: PyYAML>=5.4.1 in /usr/local/lib/python3.11/dist-packages (from huaweicloudsdkcore) (6.0.2)\n",
            "Requirement already satisfied: pyasn1>=0.5.0 in /usr/local/lib/python3.11/dist-packages (from huaweicloudsdkcore) (0.6.1)\n",
            "Requirement already satisfied: certifi>=2022.12.7 in /usr/local/lib/python3.11/dist-packages (from huaweicloudsdkcore) (2025.8.3)\n",
            "Requirement already satisfied: typing-extensions in /usr/local/lib/python3.11/dist-packages (from huaweicloudsdkcore) (4.14.1)\n",
            "Requirement already satisfied: pymongo in /usr/local/lib/python3.11/dist-packages (from huaweicloudsdkcore) (4.14.0)\n",
            "Requirement already satisfied: defusedxml in /usr/local/lib/python3.11/dist-packages (from huaweicloudsdkcore) (0.7.1)\n",
            "Requirement already satisfied: requests<3.0.0,>=2.0.1 in /usr/local/lib/python3.11/dist-packages (from requests-toolbelt>=0.10.1->huaweicloudsdkcore) (2.32.3)\n",
            "Requirement already satisfied: dnspython<3.0.0,>=1.16.0 in /usr/local/lib/python3.11/dist-packages (from pymongo->huaweicloudsdkcore) (2.7.0)\n",
            "Requirement already satisfied: charset-normalizer<4,>=2 in /usr/local/lib/python3.11/dist-packages (from requests<3.0.0,>=2.0.1->requests-toolbelt>=0.10.1->huaweicloudsdkcore) (3.4.2)\n",
            "Requirement already satisfied: idna<4,>=2.5 in /usr/local/lib/python3.11/dist-packages (from requests<3.0.0,>=2.0.1->requests-toolbelt>=0.10.1->huaweicloudsdkcore) (3.10)\n",
            "Requirement already satisfied: urllib3<3,>=1.21.1 in /usr/local/lib/python3.11/dist-packages (from requests<3.0.0,>=2.0.1->requests-toolbelt>=0.10.1->huaweicloudsdkcore) (2.5.0)\n",
            "Requirement already satisfied: huaweicloudsdkevs in /usr/local/lib/python3.11/dist-packages (3.1.161)\n",
            "Requirement already satisfied: huaweicloudsdkcore>=3.1.161 in /usr/local/lib/python3.11/dist-packages (from huaweicloudsdkevs) (3.1.161)\n",
            "Requirement already satisfied: requests-toolbelt>=0.10.1 in /usr/local/lib/python3.11/dist-packages (from huaweicloudsdkcore>=3.1.161->huaweicloudsdkevs) (1.0.0)\n",
            "Requirement already satisfied: six>=1.16.0 in /usr/local/lib/python3.11/dist-packages (from huaweicloudsdkcore>=3.1.161->huaweicloudsdkevs) (1.17.0)\n",
            "Requirement already satisfied: simplejson>=3.18.0 in /usr/local/lib/python3.11/dist-packages (from huaweicloudsdkcore>=3.1.161->huaweicloudsdkevs) (3.20.1)\n",
            "Requirement already satisfied: PyYAML>=5.4.1 in /usr/local/lib/python3.11/dist-packages (from huaweicloudsdkcore>=3.1.161->huaweicloudsdkevs) (6.0.2)\n",
            "Requirement already satisfied: pyasn1>=0.5.0 in /usr/local/lib/python3.11/dist-packages (from huaweicloudsdkcore>=3.1.161->huaweicloudsdkevs) (0.6.1)\n",
            "Requirement already satisfied: certifi>=2022.12.7 in /usr/local/lib/python3.11/dist-packages (from huaweicloudsdkcore>=3.1.161->huaweicloudsdkevs) (2025.8.3)\n",
            "Requirement already satisfied: typing-extensions in /usr/local/lib/python3.11/dist-packages (from huaweicloudsdkcore>=3.1.161->huaweicloudsdkevs) (4.14.1)\n",
            "Requirement already satisfied: pymongo in /usr/local/lib/python3.11/dist-packages (from huaweicloudsdkcore>=3.1.161->huaweicloudsdkevs) (4.14.0)\n",
            "Requirement already satisfied: defusedxml in /usr/local/lib/python3.11/dist-packages (from huaweicloudsdkcore>=3.1.161->huaweicloudsdkevs) (0.7.1)\n",
            "Requirement already satisfied: requests<3.0.0,>=2.0.1 in /usr/local/lib/python3.11/dist-packages (from requests-toolbelt>=0.10.1->huaweicloudsdkcore>=3.1.161->huaweicloudsdkevs) (2.32.3)\n",
            "Requirement already satisfied: dnspython<3.0.0,>=1.16.0 in /usr/local/lib/python3.11/dist-packages (from pymongo->huaweicloudsdkcore>=3.1.161->huaweicloudsdkevs) (2.7.0)\n",
            "Requirement already satisfied: charset-normalizer<4,>=2 in /usr/local/lib/python3.11/dist-packages (from requests<3.0.0,>=2.0.1->requests-toolbelt>=0.10.1->huaweicloudsdkcore>=3.1.161->huaweicloudsdkevs) (3.4.2)\n",
            "Requirement already satisfied: idna<4,>=2.5 in /usr/local/lib/python3.11/dist-packages (from requests<3.0.0,>=2.0.1->requests-toolbelt>=0.10.1->huaweicloudsdkcore>=3.1.161->huaweicloudsdkevs) (3.10)\n",
            "Requirement already satisfied: urllib3<3,>=1.21.1 in /usr/local/lib/python3.11/dist-packages (from requests<3.0.0,>=2.0.1->requests-toolbelt>=0.10.1->huaweicloudsdkcore>=3.1.161->huaweicloudsdkevs) (2.5.0)\n",
            "✅ API call successful.\n",
            "No volumes found in this region.\n"
          ]
        }
      ],
      "source": [
        "# ✅ Step 1: Install Huawei Cloud SDK packages\n",
        "!pip install huaweicloudsdkcore\n",
        "!pip install huaweicloudsdkevs\n",
        "\n",
        "# ✅ Step 2: Import required modules\n",
        "from huaweicloudsdkcore.auth.credentials import BasicCredentials\n",
        "from huaweicloudsdkcore.exceptions import exceptions\n",
        "from huaweicloudsdkevs.v2 import *\n",
        "from huaweicloudsdkevs.v2.region.evs_region import EvsRegion\n",
        "\n",
        "# ✅ Step 3: Provide your credentials (replace with your actual values)\n",
        "ak = \"HPUAURQ2VW9MGEZIGYJ2\"\n",
        "sk = \"ALoAck2JuXYkWxoX3NrV0lU5nvCs6MEW8LCyDT0F\"\n",
        "project_id = \"7ca3da975f2b419f8558970ea203244f\"\n",
        "region = \"ap-southeast-1\"\n",
        "\n",
        "# ✅ Step 4: Create a credentials object\n",
        "credentials = BasicCredentials(ak, sk, project_id)\n",
        "\n",
        "# ✅ Step 5: Create the EVS client\n",
        "client = EvsClient.new_builder() \\\n",
        "   .with_credentials(credentials) \\\n",
        "    .with_region(EvsRegion.value_of(region)) \\\n",
        "   .build()\n",
        "\n",
        "# ✅ Step 6: Call an API (List Volumes)\n",
        "try:\n",
        "    request = ListVolumesRequest()\n",
        "    response = client.list_volumes(request)\n",
        "\n",
        "    print(\"✅ API call successful.\")\n",
        "    if response.volumes:\n",
        "        for volume in response.volumes:\n",
        "            print(f\"- Volume Name: {volume.name}, ID: {volume.id}\")\n",
        "    else:\n",
        "        print(\"No volumes found in this region.\")\n",
        "\n",
        "except exceptions.ClientRequestException as e:\n",
        "    print(f\"❌ Client error: {e.status_code} - {e.error_msg}\")\n",
        "except exceptions.ServerResponseException as e:\n",
        "    print(f\"❌ Server error: {e.status_code} - {e.error_msg}\")\n",
        "except exceptions.ConnectionException as e:\n",
        "    print(\"❌ Network error:\", str(e))"
      ]
    }
  ]
}