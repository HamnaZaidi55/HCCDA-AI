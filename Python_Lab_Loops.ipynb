{
  "nbformat": 4,
  "nbformat_minor": 0,
  "metadata": {
    "colab": {
      "provenance": []
    },
    "kernelspec": {
      "name": "python3",
      "display_name": "Python 3"
    },
    "language_info": {
      "name": "python"
    }
  },
  "cells": [
    {
      "cell_type": "markdown",
      "source": [
        "# **Python Lab# Loops**"
      ],
      "metadata": {
        "id": "5kjKJBxRxx6F"
      }
    },
    {
      "cell_type": "markdown",
      "source": [
        "**Question 1:**\n",
        "Write a Python program using a for loop to print all even numbers from 1 to 20."
      ],
      "metadata": {
        "id": "HALAXvkqx0ta"
      }
    },
    {
      "cell_type": "code",
      "source": [
        "for number in range(1, 21):\n",
        "  if number % 2 == 0:\n",
        "    print(number)"
      ],
      "metadata": {
        "colab": {
          "base_uri": "https://localhost:8080/"
        },
        "id": "Uv95eYxsxxhy",
        "outputId": "a283b683-d387-4487-a361-3b3657f81c9f"
      },
      "execution_count": null,
      "outputs": [
        {
          "output_type": "stream",
          "name": "stdout",
          "text": [
            "2\n",
            "4\n",
            "6\n",
            "8\n",
            "10\n",
            "12\n",
            "14\n",
            "16\n",
            "18\n",
            "20\n"
          ]
        }
      ]
    },
    {
      "cell_type": "markdown",
      "source": [
        "**Question 2:**\n",
        "Write a Python program using a while loop that prints numbers from 10 to 1 in\n",
        "reverse order."
      ],
      "metadata": {
        "id": "F7N9ukUOynTS"
      }
    },
    {
      "cell_type": "code",
      "source": [
        "number = 10\n",
        "while number >= 1:\n",
        "  print(number)\n",
        "  number -= 1"
      ],
      "metadata": {
        "colab": {
          "base_uri": "https://localhost:8080/"
        },
        "id": "_8TJ9rz-yqez",
        "outputId": "cbf8f70b-54e0-4beb-d749-f8f7b691fb74"
      },
      "execution_count": null,
      "outputs": [
        {
          "output_type": "stream",
          "name": "stdout",
          "text": [
            "10\n",
            "9\n",
            "8\n",
            "7\n",
            "6\n",
            "5\n",
            "4\n",
            "3\n",
            "2\n",
            "1\n"
          ]
        }
      ]
    },
    {
      "cell_type": "markdown",
      "source": [
        "**Question 3:**\n",
        "Write a Python program that uses a for loop to print the square of numbers from 1 to\n",
        "5."
      ],
      "metadata": {
        "id": "iJdrYgBay3XX"
      }
    },
    {
      "cell_type": "code",
      "source": [
        "for number in range(1, 6):\n",
        "  print(number ** 2)\n"
      ],
      "metadata": {
        "colab": {
          "base_uri": "https://localhost:8080/"
        },
        "id": "hoP_OxFKy2zT",
        "outputId": "bdc648d4-94e6-4e4d-a3a9-353dc1b9407a"
      },
      "execution_count": null,
      "outputs": [
        {
          "output_type": "stream",
          "name": "stdout",
          "text": [
            "1\n",
            "4\n",
            "9\n",
            "16\n",
            "25\n"
          ]
        }
      ]
    },
    {
      "cell_type": "markdown",
      "source": [
        "**Question 4:**\n",
        "Write a Python program that asks the user for a number and prints its factorial using a while loop."
      ],
      "metadata": {
        "id": "Z8mnDsrSzLyf"
      }
    },
    {
      "cell_type": "code",
      "source": [
        "number = int(input(\"Enter a number: \"))\n",
        "factorial = 1\n",
        "i = 1\n",
        "while i <= number:\n",
        "  factorial *= i\n",
        "  i += 1\n",
        "print(\"Factorial:\", factorial)"
      ],
      "metadata": {
        "colab": {
          "base_uri": "https://localhost:8080/"
        },
        "id": "mIwmr-MtzLjJ",
        "outputId": "b31c0db3-84f7-4bf9-ba29-05eae932dbff"
      },
      "execution_count": null,
      "outputs": [
        {
          "output_type": "stream",
          "name": "stdout",
          "text": [
            "Enter a number: 5\n",
            "Factorial: 120\n"
          ]
        }
      ]
    },
    {
      "cell_type": "markdown",
      "source": [
        "**Question 5:**\n",
        "Write a Python program using a for loop to iterate over the string &quot;Programming&quot; and print each character, but skip the letter &#39;g&#39; using the continue statement."
      ],
      "metadata": {
        "id": "g6ABa9eW0q-i"
      }
    },
    {
      "cell_type": "code",
      "execution_count": null,
      "metadata": {
        "colab": {
          "base_uri": "https://localhost:8080/"
        },
        "id": "r-2kW3N-xffx",
        "outputId": "474acf98-6321-4533-ad79-56da341e6016"
      },
      "outputs": [
        {
          "output_type": "stream",
          "name": "stdout",
          "text": [
            "P\n",
            "r\n",
            "o\n",
            "r\n",
            "a\n",
            "m\n",
            "m\n",
            "i\n",
            "n\n"
          ]
        }
      ],
      "source": [
        "text = \"Programming\"\n",
        "for char in text:\n",
        "    if char == 'g':\n",
        "        continue\n",
        "    print(char)"
      ]
    },
    {
      "cell_type": "markdown",
      "source": [
        "**Question 6:**\n",
        "Write a Python program that uses a for loop to print numbers from 1 to 10. Stop theloop if the number is greater than 6 using a break statement."
      ],
      "metadata": {
        "id": "yTqqaBTP1F-y"
      }
    },
    {
      "cell_type": "code",
      "source": [
        "for number in range(1, 11):\n",
        "    if number > 6:\n",
        "        break\n",
        "    print(number)"
      ],
      "metadata": {
        "colab": {
          "base_uri": "https://localhost:8080/"
        },
        "id": "uDxrJvlQ1Jos",
        "outputId": "e727d504-0841-4113-f1ea-808962c8d44c"
      },
      "execution_count": null,
      "outputs": [
        {
          "output_type": "stream",
          "name": "stdout",
          "text": [
            "1\n",
            "2\n",
            "3\n",
            "4\n",
            "5\n",
            "6\n"
          ]
        }
      ]
    },
    {
      "cell_type": "markdown",
      "source": [
        "**Question 7:**\n",
        "Write a Python program to check whether a number entered by the user is positive, negative, or zero using if-elif-else."
      ],
      "metadata": {
        "id": "4rQEsV6p1lZo"
      }
    },
    {
      "cell_type": "code",
      "source": [
        "number = float(input(\"Enter a number: \"))\n",
        "\n",
        "if number > 0:\n",
        "    print(\"Positive number\")\n",
        "elif number < 0:\n",
        "    print(\"Negative number\")\n",
        "else:\n",
        "    print(\"Zero\")"
      ],
      "metadata": {
        "colab": {
          "base_uri": "https://localhost:8080/"
        },
        "id": "y0UuF4S01rD_",
        "outputId": "caa960db-5b91-4ec2-a66c-527cea326044"
      },
      "execution_count": null,
      "outputs": [
        {
          "output_type": "stream",
          "name": "stdout",
          "text": [
            "Enter a number: 67\n",
            "Positive number\n"
          ]
        }
      ]
    },
    {
      "cell_type": "markdown",
      "source": [
        "**Question 8:**\n",
        "Write a Python program that prints the multiplication table of a number entered by the user using a for loop."
      ],
      "metadata": {
        "id": "cX2ItKKn127L"
      }
    },
    {
      "cell_type": "code",
      "source": [
        "num = input(\"Enter a number \")\n",
        "\n",
        "num = int(num)\n",
        "print(\"\")\n",
        "print(\"table of\", num, \":\")\n",
        "for i in range(1, 11):\n",
        "    print(num, \"x\", i, \"=\", num * i)"
      ],
      "metadata": {
        "colab": {
          "base_uri": "https://localhost:8080/"
        },
        "id": "ML-5zJ6_15iF",
        "outputId": "1c564dfb-e8ae-4d90-d0ab-8bd7c88a712c"
      },
      "execution_count": null,
      "outputs": [
        {
          "output_type": "stream",
          "name": "stdout",
          "text": [
            "Enter a number 6\n",
            "\n",
            "table of 6 :\n",
            "6 x 1 = 6\n",
            "6 x 2 = 12\n",
            "6 x 3 = 18\n",
            "6 x 4 = 24\n",
            "6 x 5 = 30\n",
            "6 x 6 = 36\n",
            "6 x 7 = 42\n",
            "6 x 8 = 48\n",
            "6 x 9 = 54\n",
            "6 x 10 = 60\n"
          ]
        }
      ]
    },
    {
      "cell_type": "markdown",
      "source": [
        "**Question9:**\n",
        "Write a program to accept a number from 1 to 7 and display the name of the day like 1 for Sunday, 2 for Monday, and so on."
      ],
      "metadata": {
        "id": "ZVZCpWH820Qp"
      }
    },
    {
      "cell_type": "code",
      "source": [
        "day= int(input(\"Enter a number: \"))\n",
        "\n",
        "# Use if-elif-else to match the number with the day\n",
        "if day == 1:\n",
        "    print(\"Sunday the happy day\")\n",
        "elif day == 2:\n",
        "    print(\"Monday the most hate day\")\n",
        "elif day == 3:\n",
        "    print(\"Tuesday\")\n",
        "elif day == 4:\n",
        "    print(\"Wednesday\")\n",
        "elif day == 5:\n",
        "    print(\"Thursday\")\n",
        "elif day == 6:\n",
        "    print(\"Friday a blessed day\")\n",
        "elif day == 7:\n",
        "    print(\"Saturday hope day\")\n",
        "else:\n",
        "    print(\"Invalid number! Please enter a number from 1 to 7.\")"
      ],
      "metadata": {
        "colab": {
          "base_uri": "https://localhost:8080/"
        },
        "id": "2xv0kOjX24-P",
        "outputId": "990dc014-9210-4696-831f-ff3c3279d970"
      },
      "execution_count": null,
      "outputs": [
        {
          "output_type": "stream",
          "name": "stdout",
          "text": [
            "Enter a number: 7\n",
            "Saturday hope day\n"
          ]
        }
      ]
    },
    {
      "cell_type": "markdown",
      "source": [
        "**Question 10:**\n",
        "Write a Python program using a while loop to keep asking the user to enter a\n",
        "password until they type &quot;python123&quot;."
      ],
      "metadata": {
        "id": "eTr7RyO_3m7l"
      }
    },
    {
      "cell_type": "code",
      "source": [
        "password = \"\"\n",
        "while password != \"python123\":\n",
        "    password = input(\"Enter the password: \")\n",
        "\n",
        "print(\"Access granted.\")"
      ],
      "metadata": {
        "colab": {
          "base_uri": "https://localhost:8080/"
        },
        "id": "beTU645z3mib",
        "outputId": "f59e446e-6d5c-4f95-a04f-dbc79252f207"
      },
      "execution_count": null,
      "outputs": [
        {
          "output_type": "stream",
          "name": "stdout",
          "text": [
            "Enter the password: python123\n",
            "Access granted.\n"
          ]
        }
      ]
    }
  ]
}